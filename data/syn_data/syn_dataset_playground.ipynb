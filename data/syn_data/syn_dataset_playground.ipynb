{
 "cells": [
  {
   "cell_type": "code",
   "execution_count": 24,
   "metadata": {},
   "outputs": [],
   "source": [
    "import pandas as pd\n",
    "import numpy as np\n",
    "import torch\n",
    "import sys"
   ]
  },
  {
   "cell_type": "code",
   "execution_count": 25,
   "metadata": {},
   "outputs": [],
   "source": [
    "import torch_geometric\n",
    "from torch_geometric.data import Data\n",
    "from torch_geometric.data import DataLoader\n",
    "\n",
    "sys.path.append('/home/jiaqing/桌面/Fea2Fea/property_process/')\n",
    "from graph_property import G_property, binning"
   ]
  },
  {
   "cell_type": "code",
   "execution_count": 42,
   "metadata": {},
   "outputs": [],
   "source": [
    "property_file = pd.read_csv('geometric_graph_800_property.txt', sep = '\\t')\n",
    "edge_idx_file = pd.read_csv('geometric_graph_800_edge_idx.txt', sep = ',',header = None)\n",
    "\n",
    "x = torch.tensor(np.array(property_file), dtype=torch.float)\n",
    "edge_idx = torch.tensor(np.array(edge_idx_file), dtype=torch.long)\n",
    "\n",
    "x_train = x[:,2].reshape((len(x),1))\n",
    "tmp = np.array(x[:,1])\n",
    "y = binning(tmp, k = 2,data_len = len(x))\n",
    "#y = torch.tensor([[1] for i in range(200)])\n",
    "#print(edge_idx)\n",
    "data = Data(x=x_train, edge_index=edge_idx.t().contiguous(), y =y)\n",
    "#print(data.y)\n",
    "#print(data.x)"
   ]
  },
  {
   "cell_type": "code",
   "execution_count": 47,
   "metadata": {},
   "outputs": [
    {
     "name": "stdout",
     "output_type": "stream",
     "text": [
      "800\n"
     ]
    }
   ],
   "source": [
    "num_nodes = len(data.y)\n",
    "print(num_nodes)\n",
    "num_train_nodes = int(num_nodes * 0.8)\n",
    "num_valid_nodes = int(num_nodes * 0.1)\n",
    "num_test_nodes = int(num_nodes * 0.1)\n",
    "perm = torch.randperm(num_nodes)\n",
    "train_idx = perm[:num_train_nodes]\n",
    "valid_idx = perm[num_train_nodes:(num_train_nodes+num_valid_nodes)]\n",
    "test_dix = perm[(num_train_nodes+num_valid_nodes):(num_train_nodes+num_valid_nodes+num_test_nodes)]\n",
    "\n",
    "## debugging\n",
    "#print(train_idx)\n",
    "#print(valid_idx)"
   ]
  },
  {
   "cell_type": "code",
   "execution_count": 48,
   "metadata": {},
   "outputs": [],
   "source": [
    "import torch.nn.functional as F\n",
    "import torch.nn as nn\n",
    "from torch_geometric.nn import GCNConv\n",
    "\n",
    "class Net(torch.nn.Module):\n",
    "    def __init__(self):\n",
    "        super(Net, self).__init__()\n",
    "        self.conv1 = GCNConv(1, 256)\n",
    "        self.conv2 = GCNConv(256,64)\n",
    "        \n",
    "        self.linear1 = nn.Linear(64,16)\n",
    "        self.linear2 = nn.Linear(16, 6)\n",
    "\n",
    "    def forward(self, data):\n",
    "        x, edge_index = data.x, data.edge_index\n",
    "\n",
    "        x = self.conv1(x, edge_index)\n",
    "        x = F.relu(x)\n",
    "        x = F.dropout(x, training=self.training)\n",
    "        x = self.conv2(x, edge_index)\n",
    "        x = F.relu(x)\n",
    "        x = F.dropout(x, training=self.training)\n",
    "        x = F.relu(self.linear1(x))\n",
    "        x = self.linear2(x)\n",
    "\n",
    "        return F.log_softmax(x, dim=1)"
   ]
  },
  {
   "cell_type": "code",
   "execution_count": 49,
   "metadata": {},
   "outputs": [],
   "source": [
    "device = torch.device('cuda' if torch.cuda.is_available() else 'cpu')\n",
    "model = Net().to(device)\n",
    "data = data.to(device)\n",
    "optimizer = torch.optim.Adam(model.parameters(), lr=0.03, weight_decay=5e-4)\n",
    "\n",
    "\n",
    "\n",
    "def train(data, train_idx):\n",
    "    model.train()\n",
    "    optimizer.zero_grad()\n",
    "    out = model(data)\n",
    "    loss = F.nll_loss(out[train_idx], data.y[train_idx])\n",
    "    #print(loss)\n",
    "    loss.backward()\n",
    "    optimizer.step()\n",
    "    \n",
    "def test(data, valid_idx):\n",
    "    model.eval()\n",
    "    with torch.no_grad():\n",
    "        pred = model(data).max(dim=1)[1]\n",
    "    correct = 0\n",
    "    correct += pred[valid_idx].eq(data.y[valid_idx]).sum().item()\n",
    "    valid_acc = correct / len(valid_idx)\n",
    "    return valid_acc"
   ]
  },
  {
   "cell_type": "code",
   "execution_count": 59,
   "metadata": {},
   "outputs": [
    {
     "name": "stdout",
     "output_type": "stream",
     "text": [
      "0.7625\n"
     ]
    }
   ],
   "source": [
    "for epoch in range(400):\n",
    "    train(data,train_idx)\n",
    "\n",
    "a = test(data,test_dix)\n",
    "print(a)"
   ]
  },
  {
   "cell_type": "code",
   "execution_count": null,
   "metadata": {},
   "outputs": [],
   "source": []
  },
  {
   "cell_type": "code",
   "execution_count": null,
   "metadata": {},
   "outputs": [],
   "source": []
  }
 ],
 "metadata": {
  "kernelspec": {
   "display_name": "Python 3",
   "language": "python",
   "name": "python3"
  },
  "language_info": {
   "codemirror_mode": {
    "name": "ipython",
    "version": 3
   },
   "file_extension": ".py",
   "mimetype": "text/x-python",
   "name": "python",
   "nbconvert_exporter": "python",
   "pygments_lexer": "ipython3",
   "version": "3.8.3"
  }
 },
 "nbformat": 4,
 "nbformat_minor": 4
}
