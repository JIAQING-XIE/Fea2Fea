{
 "cells": [
  {
   "cell_type": "code",
   "execution_count": 1,
   "metadata": {},
   "outputs": [],
   "source": [
    "import pandas as pd\n",
    "import numpy as np\n",
    "import torch\n",
    "import sys"
   ]
  },
  {
   "cell_type": "code",
   "execution_count": 2,
   "metadata": {},
   "outputs": [
    {
     "output_type": "stream",
     "name": "stderr",
     "text": [
      "/home/jiaqing/anaconda3/lib/python3.8/site-packages/sklearn/linear_model/least_angle.py:35: DeprecationWarning: `np.float` is a deprecated alias for the builtin `float`. To silence this warning, use `float` by itself. Doing this will not modify any behavior and is safe. If you specifically wanted the numpy scalar type, use `np.float64` here.\nDeprecated in NumPy 1.20; for more details and guidance: https://numpy.org/devdocs/release/1.20.0-notes.html#deprecations\n  eps=np.finfo(np.float).eps,\n/home/jiaqing/anaconda3/lib/python3.8/site-packages/sklearn/linear_model/least_angle.py:597: DeprecationWarning: `np.float` is a deprecated alias for the builtin `float`. To silence this warning, use `float` by itself. Doing this will not modify any behavior and is safe. If you specifically wanted the numpy scalar type, use `np.float64` here.\nDeprecated in NumPy 1.20; for more details and guidance: https://numpy.org/devdocs/release/1.20.0-notes.html#deprecations\n  eps=np.finfo(np.float).eps, copy_X=True, fit_path=True,\n/home/jiaqing/anaconda3/lib/python3.8/site-packages/sklearn/linear_model/least_angle.py:836: DeprecationWarning: `np.float` is a deprecated alias for the builtin `float`. To silence this warning, use `float` by itself. Doing this will not modify any behavior and is safe. If you specifically wanted the numpy scalar type, use `np.float64` here.\nDeprecated in NumPy 1.20; for more details and guidance: https://numpy.org/devdocs/release/1.20.0-notes.html#deprecations\n  eps=np.finfo(np.float).eps, copy_X=True, fit_path=True,\n/home/jiaqing/anaconda3/lib/python3.8/site-packages/sklearn/linear_model/least_angle.py:862: DeprecationWarning: `np.float` is a deprecated alias for the builtin `float`. To silence this warning, use `float` by itself. Doing this will not modify any behavior and is safe. If you specifically wanted the numpy scalar type, use `np.float64` here.\nDeprecated in NumPy 1.20; for more details and guidance: https://numpy.org/devdocs/release/1.20.0-notes.html#deprecations\n  eps=np.finfo(np.float).eps, positive=False):\n/home/jiaqing/anaconda3/lib/python3.8/site-packages/sklearn/linear_model/least_angle.py:1074: DeprecationWarning: `np.float` is a deprecated alias for the builtin `float`. To silence this warning, use `float` by itself. Doing this will not modify any behavior and is safe. If you specifically wanted the numpy scalar type, use `np.float64` here.\nDeprecated in NumPy 1.20; for more details and guidance: https://numpy.org/devdocs/release/1.20.0-notes.html#deprecations\n  max_n_alphas=1000, n_jobs=1, eps=np.finfo(np.float).eps,\n/home/jiaqing/anaconda3/lib/python3.8/site-packages/sklearn/linear_model/least_angle.py:1306: DeprecationWarning: `np.float` is a deprecated alias for the builtin `float`. To silence this warning, use `float` by itself. Doing this will not modify any behavior and is safe. If you specifically wanted the numpy scalar type, use `np.float64` here.\nDeprecated in NumPy 1.20; for more details and guidance: https://numpy.org/devdocs/release/1.20.0-notes.html#deprecations\n  max_n_alphas=1000, n_jobs=1, eps=np.finfo(np.float).eps,\n/home/jiaqing/anaconda3/lib/python3.8/site-packages/sklearn/linear_model/least_angle.py:1442: DeprecationWarning: `np.float` is a deprecated alias for the builtin `float`. To silence this warning, use `float` by itself. Doing this will not modify any behavior and is safe. If you specifically wanted the numpy scalar type, use `np.float64` here.\nDeprecated in NumPy 1.20; for more details and guidance: https://numpy.org/devdocs/release/1.20.0-notes.html#deprecations\n  eps=np.finfo(np.float).eps, copy_X=True, positive=False):\n/home/jiaqing/anaconda3/lib/python3.8/site-packages/sklearn/linear_model/randomized_l1.py:152: DeprecationWarning: `np.float` is a deprecated alias for the builtin `float`. To silence this warning, use `float` by itself. Doing this will not modify any behavior and is safe. If you specifically wanted the numpy scalar type, use `np.float64` here.\nDeprecated in NumPy 1.20; for more details and guidance: https://numpy.org/devdocs/release/1.20.0-notes.html#deprecations\n  precompute=False, eps=np.finfo(np.float).eps,\n/home/jiaqing/anaconda3/lib/python3.8/site-packages/sklearn/linear_model/randomized_l1.py:318: DeprecationWarning: `np.float` is a deprecated alias for the builtin `float`. To silence this warning, use `float` by itself. Doing this will not modify any behavior and is safe. If you specifically wanted the numpy scalar type, use `np.float64` here.\nDeprecated in NumPy 1.20; for more details and guidance: https://numpy.org/devdocs/release/1.20.0-notes.html#deprecations\n  eps=np.finfo(np.float).eps, random_state=None,\n/home/jiaqing/anaconda3/lib/python3.8/site-packages/sklearn/linear_model/randomized_l1.py:575: DeprecationWarning: `np.float` is a deprecated alias for the builtin `float`. To silence this warning, use `float` by itself. Doing this will not modify any behavior and is safe. If you specifically wanted the numpy scalar type, use `np.float64` here.\nDeprecated in NumPy 1.20; for more details and guidance: https://numpy.org/devdocs/release/1.20.0-notes.html#deprecations\n  eps=4 * np.finfo(np.float).eps, n_jobs=1,\n/home/jiaqing/anaconda3/lib/python3.8/site-packages/sklearn/decomposition/online_lda.py:31: DeprecationWarning: `np.float` is a deprecated alias for the builtin `float`. To silence this warning, use `float` by itself. Doing this will not modify any behavior and is safe. If you specifically wanted the numpy scalar type, use `np.float64` here.\nDeprecated in NumPy 1.20; for more details and guidance: https://numpy.org/devdocs/release/1.20.0-notes.html#deprecations\n  EPS = np.finfo(np.float).eps\n"
     ]
    }
   ],
   "source": [
    "import torch_geometric\n",
    "from torch_geometric.data import Data\n",
    "from torch_geometric.data import DataLoader\n",
    "\n",
    "sys.path.append('/home/jiaqing/桌面/Fea2Fea/property_process/')\n",
    "from graph_property import G_property, binning"
   ]
  },
  {
   "cell_type": "code",
   "execution_count": 3,
   "metadata": {},
   "outputs": [],
   "source": [
    "property_file = pd.read_csv('geometric_graph_800_property.txt', sep = '\\t')\n",
    "edge_idx_file = pd.read_csv('geometric_graph_800_edge_idx.txt', sep = ',',header = None)\n",
    "\n",
    "x = torch.tensor(np.array(property_file), dtype=torch.float)\n",
    "edge_idx = torch.tensor(np.array(edge_idx_file), dtype=torch.long)\n",
    "\n",
    "x_train = x[:,2].reshape((len(x),1))\n",
    "tmp = np.array(x[:,1])\n",
    "y = binning(tmp, k = 2,data_len = len(x))\n",
    "#y = torch.tensor([[1] for i in range(200)])\n",
    "#print(edge_idx)\n",
    "data = Data(x=x_train, edge_index=edge_idx.t().contiguous(), y =y)\n",
    "#print(data.y)\n",
    "#print(data.x)"
   ]
  },
  {
   "cell_type": "code",
   "execution_count": 14,
   "metadata": {},
   "outputs": [
    {
     "output_type": "stream",
     "name": "stdout",
     "text": [
      "800\ntensor([645, 435, 734, 593, 135,  63, 103, 269, 151, 467, 198, 170, 776, 696,\n        453, 625, 134, 383, 290, 643, 350, 587, 308, 288, 355, 501, 420, 247,\n        761, 153,  58, 396, 503, 200, 589, 518,   4, 766, 136, 400, 765, 445,\n         43, 206, 215, 665, 746, 470, 465,  45, 164, 217, 276, 338, 229,  35,\n        799, 614, 717,  22,  66, 775, 353, 186, 437, 473, 219,  73, 504, 638,\n        469,  51,  84, 568, 432, 373, 157, 797, 509, 729, 191, 519, 560,  77,\n        415, 385,  81,  54, 714, 104, 640, 513, 393, 534, 389, 497, 439, 199,\n        172, 185, 253, 790, 491, 556,  23,  42, 268, 391, 139, 546, 783, 179,\n        377,  53, 633, 617,  55, 419,  74, 117, 392, 363, 331, 654, 621, 154,\n        351, 190,  68, 709, 649, 595, 536, 284, 324, 618, 252, 539,   9, 671,\n        551, 102, 118,  39, 764,  97,  46, 774, 604, 552,  24, 598, 133, 737,\n        706, 395, 101, 262, 267, 399, 695, 314, 597, 169, 349, 644, 570, 424,\n         16, 121, 306, 620, 786, 700,  19, 233, 530,  52, 311, 272, 428,  75,\n         65, 682, 578, 335, 454, 274, 562,   8, 143, 346, 231, 692, 646, 319,\n        507, 460, 131, 693, 372, 752, 224, 664, 261, 525, 357, 160, 609, 520,\n        676, 230, 292,  25, 119, 787, 553, 670,  48,  96,  95, 347, 223, 375,\n        686,  86, 702, 235, 487, 689, 241, 304, 619, 635, 796,  36,  14, 273,\n         87, 320,  64, 648, 749, 457,  79, 527, 741, 480, 265, 684, 657, 627,\n        616, 723, 521, 282, 127, 361, 550, 222, 359, 711, 187, 581, 486, 145,\n        447, 680, 150, 254, 475, 544, 250,  49, 750, 456, 144, 315, 352,  69,\n        508, 128,  90, 239, 660, 514,  37, 426, 397, 307, 414, 479, 152, 543,\n          2, 339, 321, 772,  27, 555, 492, 701, 422, 624, 412, 326, 538, 148,\n        770, 642, 651, 278, 610, 690, 564, 468, 691, 512, 238, 511, 540, 296,\n        656, 778, 572, 440,  17,  59, 317, 789, 585, 390, 738, 554, 515, 757,\n         56, 675, 163, 214, 532, 755, 368, 698, 488, 533,  31, 563, 404, 647,\n        754, 443, 202, 417, 204,  93, 181, 537, 716, 535, 705, 275, 218, 364,\n        345, 441, 742, 299, 125, 760, 730, 748, 264, 771, 626, 759, 298,  71,\n        637, 612, 576, 203,  40, 182, 763, 788, 703, 409, 767, 294, 176, 442,\n        603, 427, 286, 149,  88, 661, 685, 259,   6, 565, 216, 287, 769, 466,\n         13, 483, 342,  62, 285, 561, 793, 571, 244, 448, 384, 744, 740, 451,\n        211, 208, 312, 505, 195, 548, 354, 279, 413, 707, 592, 725, 367,  91,\n        733, 636,  80, 688, 599, 197, 132, 126, 795, 718, 577, 542, 105, 386,\n        722, 798,  60, 528, 309, 240, 374, 753, 281, 502, 283,  76, 310,  28,\n        300, 193, 726, 631, 245, 482, 629, 586, 141, 236,  32, 478, 792, 677,\n         12, 255, 762, 382, 113, 146,  34, 715, 387, 545, 710, 336, 628, 489,\n        358, 434, 679, 147, 249, 381, 328, 408, 140, 227, 210, 699, 739, 575,\n        360, 122, 376, 260, 344, 209, 736,  98, 180, 303, 500, 173, 667, 228,\n          7, 652, 668, 429, 271, 158, 446, 251,  50, 582, 365, 779, 485,   3,\n        477, 463, 411, 410, 184, 768, 523, 499, 650, 602, 123, 436, 248, 124,\n        777, 464, 608, 112, 213, 221,  82, 663, 655, 557, 325, 257, 188, 327,\n        743, 666, 591, 108, 120, 573, 430, 100, 455, 205, 165,  72, 496, 130,\n        323, 196, 168, 773,  92, 313, 225,  57, 167, 784, 745, 405, 220, 333,\n        681, 580, 444, 322, 683, 332, 301, 630, 330, 506, 694,  33, 510, 438,\n        583,  70, 658, 407, 295, 461, 171,   1, 178, 495, 226, 673, 713, 371,\n        594, 449, 110, 302, 256, 337, 366, 567, 611, 522, 529, 263, 613,  47,\n        634, 782, 524,  18, 431, 138, 569, 462, 471, 653])\ntensor([433, 459, 588, 207, 212, 474, 606, 289, 161, 107, 574, 159, 348, 687,\n        340, 243, 458, 712, 297, 318, 137,  15, 476,  29, 111, 697,  61, 237,\n        731, 559, 403, 721, 406, 600,   5, 109, 416, 622, 751,  83, 266, 242,\n        378, 270, 547, 704, 234, 720, 494, 379, 334, 356, 370, 549, 662, 601,\n        293, 194, 452, 174, 201, 758, 175,  89, 155,   0, 659, 362, 672, 192,\n        423, 791, 590, 794, 623, 678, 343, 329, 402,  38])\n"
     ]
    }
   ],
   "source": [
    "import random\n",
    "num_nodes = len(data.y)\n",
    "print(num_nodes)\n",
    "num_train_nodes = int(num_nodes * 0.8)\n",
    "num_valid_nodes = int(num_nodes * 0.1)\n",
    "num_test_nodes = int(num_nodes * 0.1)\n",
    "random.seed(1)\n",
    "torch.manual_seed(1)\n",
    "torch.cuda.manual_seed(1)\n",
    "np.random.seed(1)\n",
    "perm = torch.randperm(num_nodes)\n",
    "train_idx = perm[:num_train_nodes]\n",
    "valid_idx = perm[num_train_nodes:(num_train_nodes+num_valid_nodes)]\n",
    "test_dix = perm[(num_train_nodes+num_valid_nodes):(num_train_nodes+num_valid_nodes+num_test_nodes)]\n",
    "\n",
    "## debugging\n",
    "print(train_idx)\n",
    "print(valid_idx)"
   ]
  },
  {
   "cell_type": "code",
   "execution_count": 48,
   "metadata": {},
   "outputs": [],
   "source": [
    "import torch.nn.functional as F\n",
    "import torch.nn as nn\n",
    "from torch_geometric.nn import GCNConv\n",
    "\n",
    "class Net(torch.nn.Module):\n",
    "    def __init__(self):\n",
    "        super(Net, self).__init__()\n",
    "        self.conv1 = GCNConv(1, 256)\n",
    "        self.conv2 = GCNConv(256,64)\n",
    "        \n",
    "        self.linear1 = nn.Linear(64,16)\n",
    "        self.linear2 = nn.Linear(16, 6)\n",
    "\n",
    "    def forward(self, data):\n",
    "        x, edge_index = data.x, data.edge_index\n",
    "\n",
    "        x = self.conv1(x, edge_index)\n",
    "        x = F.relu(x)\n",
    "        x = F.dropout(x, training=self.training)\n",
    "        x = self.conv2(x, edge_index)\n",
    "        x = F.relu(x)\n",
    "        x = F.dropout(x, training=self.training)\n",
    "        x = F.relu(self.linear1(x))\n",
    "        x = self.linear2(x)\n",
    "\n",
    "        return F.log_softmax(x, dim=1)"
   ]
  },
  {
   "cell_type": "code",
   "execution_count": 49,
   "metadata": {},
   "outputs": [],
   "source": [
    "device = torch.device('cuda' if torch.cuda.is_available() else 'cpu')\n",
    "model = Net().to(device)\n",
    "data = data.to(device)\n",
    "optimizer = torch.optim.Adam(model.parameters(), lr=0.03, weight_decay=5e-4)\n",
    "\n",
    "\n",
    "\n",
    "def train(data, train_idx):\n",
    "    model.train()\n",
    "    optimizer.zero_grad()\n",
    "    out = model(data)\n",
    "    loss = F.nll_loss(out[train_idx], data.y[train_idx])\n",
    "    #print(loss)\n",
    "    loss.backward()\n",
    "    optimizer.step()\n",
    "    \n",
    "def test(data, valid_idx):\n",
    "    model.eval()\n",
    "    with torch.no_grad():\n",
    "        pred = model(data).max(dim=1)[1]\n",
    "    correct = 0\n",
    "    correct += pred[valid_idx].eq(data.y[valid_idx]).sum().item()\n",
    "    valid_acc = correct / len(valid_idx)\n",
    "    return valid_acc"
   ]
  },
  {
   "cell_type": "code",
   "execution_count": 59,
   "metadata": {},
   "outputs": [
    {
     "name": "stdout",
     "output_type": "stream",
     "text": [
      "0.7625\n"
     ]
    }
   ],
   "source": [
    "for epoch in range(400):\n",
    "    train(data,train_idx)\n",
    "\n",
    "a = test(data,test_dix)\n",
    "print(a)"
   ]
  },
  {
   "cell_type": "code",
   "execution_count": null,
   "metadata": {},
   "outputs": [],
   "source": []
  },
  {
   "cell_type": "code",
   "execution_count": null,
   "metadata": {},
   "outputs": [],
   "source": []
  }
 ],
 "metadata": {
  "kernelspec": {
   "name": "python383jvsc74a57bd0ff877c5bbc7dacd9fc2ea70a8b238b752c7fc3c8f2b62d0b7e27fb9d3b2a7920",
   "display_name": "Python 3.8.3 64-bit"
  },
  "language_info": {
   "codemirror_mode": {
    "name": "ipython",
    "version": 3
   },
   "file_extension": ".py",
   "mimetype": "text/x-python",
   "name": "python",
   "nbconvert_exporter": "python",
   "pygments_lexer": "ipython3",
   "version": "3.8.3"
  }
 },
 "nbformat": 4,
 "nbformat_minor": 4
}